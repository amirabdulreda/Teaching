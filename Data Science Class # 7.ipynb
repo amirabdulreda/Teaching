{
 "cells": [
  {
   "cell_type": "markdown",
   "metadata": {},
   "source": [
    "<h1> Data Science  Class #7 \"Data Mining & Data Structure\" </h1>\n",
    "<h2> Python Practice #3: Functions & Conditional Statements II </h2> \n",
    "\n",
    "Last week we looked at <b> for </b> arguments--today we will look at <b> if conditionals </b>. Together they can be used for very powerful data cleaning and processing techniques in Python.\n",
    "\n"
   ]
  },
  {
   "cell_type": "markdown",
   "metadata": {},
   "source": [
    "Remember the logic of  the <b> for </b> statement. We use it in the following manner: \n"
   ]
  },
  {
   "cell_type": "code",
   "execution_count": 23,
   "metadata": {},
   "outputs": [
    {
     "ename": "SyntaxError",
     "evalue": "invalid syntax (<ipython-input-23-3b902117a0b2>, line 1)",
     "output_type": "error",
     "traceback": [
      "\u001b[1;36m  File \u001b[1;32m\"<ipython-input-23-3b902117a0b2>\"\u001b[1;36m, line \u001b[1;32m1\u001b[0m\n\u001b[1;33m    for <var> in <sequence>\u001b[0m\n\u001b[1;37m        ^\u001b[0m\n\u001b[1;31mSyntaxError\u001b[0m\u001b[1;31m:\u001b[0m invalid syntax\n"
     ]
    }
   ],
   "source": [
    "for <var> in <sequence> \n",
    "    <body>"
   ]
  },
  {
   "cell_type": "markdown",
   "metadata": {},
   "source": [
    "We add the <b> if </b> statement in order to condition what Python will return to a specific set of guidelines we stipulate ourselves based on our needs"
   ]
  },
  {
   "cell_type": "code",
   "execution_count": 1,
   "metadata": {},
   "outputs": [
    {
     "name": "stdout",
     "output_type": "stream",
     "text": [
      "Donald\n",
      "Trump\n",
      "lost\n",
      "elections\n"
     ]
    }
   ],
   "source": [
    "words_in_list =['Donald', 'Trump', 'lost', 'the', 'elections']\n",
    "for x in words_in_list:\n",
    "    if len(x)>3:\n",
    "        print(x)"
   ]
  },
  {
   "cell_type": "markdown",
   "metadata": {},
   "source": [
    "Which words were returned and which ones were omitted? "
   ]
  },
  {
   "cell_type": "markdown",
   "metadata": {},
   "source": [
    "Let's try this with another condition. This time, we are working with names of provinces in Turkey in the Black Sea Region:"
   ]
  },
  {
   "cell_type": "code",
   "execution_count": 2,
   "metadata": {},
   "outputs": [
    {
     "name": "stdout",
     "output_type": "stream",
     "text": [
      "This Province name in the Black Sea Region of Turkey starts with B: Bartın\n",
      "This Province name in the Black Sea Region of Turkey starts with B: Bolu\n",
      "This Province name in the Black Sea Region of Turkey starts with B: Bayburt\n"
     ]
    }
   ],
   "source": [
    "blacksea = ['Amasya', 'Gümüşhane', 'Bartın', 'Bolu', 'Giresun', 'Kastamonu', 'Karabük','Ordu', 'Rize', 'Samsun',\n",
    "            'Sinop', 'Tokat', 'Trabzon', 'Zonguldak', 'Artvin', 'Bayburt', 'Çorum', 'Düzce']\n",
    "for whatis in blacksea:\n",
    "    if whatis.startswith('B'):\n",
    "        print(\"This Province name in the Black Sea Region of Turkey starts with B: \" + whatis)"
   ]
  },
  {
   "cell_type": "markdown",
   "metadata": {},
   "source": [
    "We can do this with much more useful examples: i.e. with storing data. Ultimately, most of what we care about when using these techniques with text will be twofold: cleaning data (and storing it back accordingly) and processing data (plots, computations, and so on)."
   ]
  },
  {
   "cell_type": "code",
   "execution_count": 4,
   "metadata": {},
   "outputs": [],
   "source": [
    "blacksea = ['Amasya', 'Gümüşhane', 'Bartın', 'Bolu', 'Giresun', 'Kastamonu', 'Karabük','Ordu', 'Rize', 'Samsun',\n",
    "            'Sinop', 'Tokat', 'Trabzon', 'Zonguldak', 'Artvin', 'Bayburt', 'Çorum', 'Düzce']\n",
    "df=[]\n",
    "for whatis in blacksea:\n",
    "    if whatis.startswith('B'): \n",
    "       df.append({'province': whatis})"
   ]
  },
  {
   "cell_type": "code",
   "execution_count": 5,
   "metadata": {},
   "outputs": [
    {
     "data": {
      "text/plain": [
       "[{'province': 'Bartın'}, {'province': 'Bolu'}, {'province': 'Bayburt'}]"
      ]
     },
     "execution_count": 5,
     "metadata": {},
     "output_type": "execute_result"
    }
   ],
   "source": [
    "df"
   ]
  },
  {
   "cell_type": "markdown",
   "metadata": {},
   "source": [
    "Some of you have been asking for more interesting things during the coding examples. As a result, we'll use something which I think is more interesting for today: how to clean data to work with the <b>Google Mobility Report</b>.\n",
    "\n",
    "We will use the <b>Google Mobility Report</b> to introduce the next example: make sure to have it downloaded and saved in the working directory of this script. \n",
    "\n",
    "What is the Google Mobility Report?\n",
    "\n",
    "It's a dataset that measures changes in movement to and from six specific locations based on a baseline of the first two weeks of February 2020:\n",
    "\n",
    "        1. Retail & Recreation        \n",
    "        2. Grocery & Pharmacy\n",
    "        3. Parks\n",
    "        4. Transit Stations\n",
    "        5. Workplaces\n",
    "        6. Residential Locations\n",
    "It's based on the same data as the one Google uses to measure how busy a place is at a specific time of the day, thanks to its device tracking ability. You can read more about it here and even download country specific reports:\n",
    "https://www.google.com/covid19/mobility/\n",
    "\n",
    "https://support.google.com/covid19-mobility/answer/9824897?hl=en&ref_topic=9822927\n",
    "\n",
    "https://support.google.com/covid19-mobility/answer/9825414?hl=en&ref_topic=9822927\n",
    "\n",
    "The Google Mobility report measures changes by two sub-regions: provinces and cities, designated as sub region 1 and sub region 2. I've already cleaned all this in the CSV file you have and subsetted the whole thing for Turkey, while changing sub region 1 name to province. "
   ]
  },
  {
   "cell_type": "code",
   "execution_count": 7,
   "metadata": {
    "scrolled": true
   },
   "outputs": [
    {
     "data": {
      "text/plain": [
       "['province',\n",
       " 'date',\n",
       " 'retail_and_recreation_percent_change_from_baseline_prov',\n",
       " 'grocery_and_pharmacy_percent_change_from_baseline_prov',\n",
       " 'parks_percent_change_from_baseline_prov',\n",
       " 'transit_stations_percent_change_from_baseline_prov',\n",
       " 'workplaces_percent_change_from_baseline_prov',\n",
       " 'residential_percent_change_from_baseline_prov']"
      ]
     },
     "execution_count": 7,
     "metadata": {},
     "output_type": "execute_result"
    }
   ],
   "source": [
    "import pandas as pd\n",
    "import csv\n",
    "\n",
    "goglomore = pd.read_csv(\"Google_Mobility_Report(Turkey_clean) (November 18, 2020).csv\" , encoding='utf-8')\n",
    "\n",
    "list(goglomore.columns) "
   ]
  },
  {
   "cell_type": "markdown",
   "metadata": {},
   "source": [
    "Problem is, we often have more data recorded for the 7 Turkish regions rather than the 81 Turkish provinces, especially on social media platforms which allow for geotagging of posts. This makes a huge difference when we want to measure topic or sentiment by location. As a result, we will create lists for all 7 regions of Turkey along with a for, if and else loop that will create a value for all Turkish regions depending on the province which is registered. \n",
    "\n",
    "Let us say we are interested in only 1 region of Turkey. Consider the following example:"
   ]
  },
  {
   "cell_type": "code",
   "execution_count": 11,
   "metadata": {},
   "outputs": [
    {
     "data": {
      "text/plain": [
       "0        Mediterranean\n",
       "1        Mediterranean\n",
       "2        Mediterranean\n",
       "3        Mediterranean\n",
       "4        Mediterranean\n",
       "             ...      \n",
       "15896            Other\n",
       "15897            Other\n",
       "15898            Other\n",
       "15899            Other\n",
       "15900            Other\n",
       "Name: region, Length: 15901, dtype: object"
      ]
     },
     "execution_count": 11,
     "metadata": {},
     "output_type": "execute_result"
    }
   ],
   "source": [
    "aegean = ['İzmir', 'Aydın', 'Manisa', 'Uşak', 'Afyonkarahisar', 'Denizli', 'Kütahya', 'Muğla']\n",
    "blacksea = ['Amasya', 'Gümüşhane', 'Bartın', 'Bolu', 'Giresun', 'Kastamonu', 'Karabük','Ordu', 'Rize', 'Samsun',\n",
    "            'Sinop', 'Tokat', 'Trabzon', 'Zonguldak', 'Artvin', 'Bayburt', 'Çorum', 'Düzce']\n",
    "cen_ana= ['Aksaray', 'Kırıkkale', 'Kırşehir', 'Nevşehir', 'Ankara', 'Çankırı', 'Eskişehir', 'Karaman', 'Kayseri', 'Konya', 'Sivas', 'Yozgat', 'Niğde']\n",
    "eas_ana= ['Ağrı', 'Bingöl', 'Elazığ', 'Hakkari', 'Iğdır', 'Kars', 'Tunceli', 'Van', 'Ardahan', 'Erzurum','Şırnak','Bitlis', 'Erzincan', 'Malatya','Muş']\n",
    "marmara=['Edirne', 'İstanbul', 'Kırklareli', 'Kocaeli', 'Tekirdağ', 'Yalova', 'Balıkesir', 'Bilecik', 'Bursa','Çanakkale','Sakarya' ]\n",
    "medite=['Adana', 'Antalya', 'Mersin', 'Burdur', 'Hatay', 'Isparta', 'Osmaniye','Kahramanmaraş' ]\n",
    "sou_ana=['Adıyaman', 'Batman','Diyarbakır', 'Gaziantep', 'Siirt', 'Mardin',  'Şanlıurfa', 'Kilis']\n",
    "\n",
    "\n",
    "goglomore['region'] = goglomore.province.apply(lambda x: \"Mediterranean\" if x in medite else \"Other\")\n",
    "\n",
    "goglomore['region']"
   ]
  },
  {
   "cell_type": "code",
   "execution_count": 9,
   "metadata": {},
   "outputs": [
    {
     "data": {
      "text/plain": [
       "['province',\n",
       " 'date',\n",
       " 'retail_and_recreation_percent_change_from_baseline_prov',\n",
       " 'grocery_and_pharmacy_percent_change_from_baseline_prov',\n",
       " 'parks_percent_change_from_baseline_prov',\n",
       " 'transit_stations_percent_change_from_baseline_prov',\n",
       " 'workplaces_percent_change_from_baseline_prov',\n",
       " 'residential_percent_change_from_baseline_prov',\n",
       " 'region']"
      ]
     },
     "execution_count": 9,
     "metadata": {},
     "output_type": "execute_result"
    }
   ],
   "source": [
    "list(goglomore.columns) "
   ]
  },
  {
   "cell_type": "code",
   "execution_count": 10,
   "metadata": {},
   "outputs": [
    {
     "data": {
      "text/html": [
       "<div>\n",
       "<style scoped>\n",
       "    .dataframe tbody tr th:only-of-type {\n",
       "        vertical-align: middle;\n",
       "    }\n",
       "\n",
       "    .dataframe tbody tr th {\n",
       "        vertical-align: top;\n",
       "    }\n",
       "\n",
       "    .dataframe thead th {\n",
       "        text-align: right;\n",
       "    }\n",
       "</style>\n",
       "<table border=\"1\" class=\"dataframe\">\n",
       "  <thead>\n",
       "    <tr style=\"text-align: right;\">\n",
       "      <th></th>\n",
       "      <th>province</th>\n",
       "      <th>date</th>\n",
       "      <th>retail_and_recreation_percent_change_from_baseline_prov</th>\n",
       "      <th>grocery_and_pharmacy_percent_change_from_baseline_prov</th>\n",
       "      <th>parks_percent_change_from_baseline_prov</th>\n",
       "      <th>transit_stations_percent_change_from_baseline_prov</th>\n",
       "      <th>workplaces_percent_change_from_baseline_prov</th>\n",
       "      <th>residential_percent_change_from_baseline_prov</th>\n",
       "      <th>region</th>\n",
       "    </tr>\n",
       "  </thead>\n",
       "  <tbody>\n",
       "    <tr>\n",
       "      <th>0</th>\n",
       "      <td>Adana</td>\n",
       "      <td>2020-02-15</td>\n",
       "      <td>0.0</td>\n",
       "      <td>0.0</td>\n",
       "      <td>-11.0</td>\n",
       "      <td>-13.0</td>\n",
       "      <td>7.0</td>\n",
       "      <td>1.0</td>\n",
       "      <td>Mediterranean</td>\n",
       "    </tr>\n",
       "    <tr>\n",
       "      <th>1</th>\n",
       "      <td>Adana</td>\n",
       "      <td>2020-02-16</td>\n",
       "      <td>5.0</td>\n",
       "      <td>4.0</td>\n",
       "      <td>-7.0</td>\n",
       "      <td>-11.0</td>\n",
       "      <td>5.0</td>\n",
       "      <td>1.0</td>\n",
       "      <td>Mediterranean</td>\n",
       "    </tr>\n",
       "    <tr>\n",
       "      <th>2</th>\n",
       "      <td>Adana</td>\n",
       "      <td>2020-02-17</td>\n",
       "      <td>2.0</td>\n",
       "      <td>4.0</td>\n",
       "      <td>5.0</td>\n",
       "      <td>-6.0</td>\n",
       "      <td>7.0</td>\n",
       "      <td>-1.0</td>\n",
       "      <td>Mediterranean</td>\n",
       "    </tr>\n",
       "    <tr>\n",
       "      <th>3</th>\n",
       "      <td>Adana</td>\n",
       "      <td>2020-02-18</td>\n",
       "      <td>5.0</td>\n",
       "      <td>4.0</td>\n",
       "      <td>4.0</td>\n",
       "      <td>-4.0</td>\n",
       "      <td>10.0</td>\n",
       "      <td>-2.0</td>\n",
       "      <td>Mediterranean</td>\n",
       "    </tr>\n",
       "    <tr>\n",
       "      <th>4</th>\n",
       "      <td>Adana</td>\n",
       "      <td>2020-02-19</td>\n",
       "      <td>-1.0</td>\n",
       "      <td>1.0</td>\n",
       "      <td>5.0</td>\n",
       "      <td>-6.0</td>\n",
       "      <td>11.0</td>\n",
       "      <td>-2.0</td>\n",
       "      <td>Mediterranean</td>\n",
       "    </tr>\n",
       "  </tbody>\n",
       "</table>\n",
       "</div>"
      ],
      "text/plain": [
       "  province        date  \\\n",
       "0    Adana  2020-02-15   \n",
       "1    Adana  2020-02-16   \n",
       "2    Adana  2020-02-17   \n",
       "3    Adana  2020-02-18   \n",
       "4    Adana  2020-02-19   \n",
       "\n",
       "   retail_and_recreation_percent_change_from_baseline_prov  \\\n",
       "0                                                0.0         \n",
       "1                                                5.0         \n",
       "2                                                2.0         \n",
       "3                                                5.0         \n",
       "4                                               -1.0         \n",
       "\n",
       "   grocery_and_pharmacy_percent_change_from_baseline_prov  \\\n",
       "0                                                0.0        \n",
       "1                                                4.0        \n",
       "2                                                4.0        \n",
       "3                                                4.0        \n",
       "4                                                1.0        \n",
       "\n",
       "   parks_percent_change_from_baseline_prov  \\\n",
       "0                                    -11.0   \n",
       "1                                     -7.0   \n",
       "2                                      5.0   \n",
       "3                                      4.0   \n",
       "4                                      5.0   \n",
       "\n",
       "   transit_stations_percent_change_from_baseline_prov  \\\n",
       "0                                              -13.0    \n",
       "1                                              -11.0    \n",
       "2                                               -6.0    \n",
       "3                                               -4.0    \n",
       "4                                               -6.0    \n",
       "\n",
       "   workplaces_percent_change_from_baseline_prov  \\\n",
       "0                                           7.0   \n",
       "1                                           5.0   \n",
       "2                                           7.0   \n",
       "3                                          10.0   \n",
       "4                                          11.0   \n",
       "\n",
       "   residential_percent_change_from_baseline_prov         region  \n",
       "0                                            1.0  Mediterranean  \n",
       "1                                            1.0  Mediterranean  \n",
       "2                                           -1.0  Mediterranean  \n",
       "3                                           -2.0  Mediterranean  \n",
       "4                                           -2.0  Mediterranean  "
      ]
     },
     "execution_count": 10,
     "metadata": {},
     "output_type": "execute_result"
    }
   ],
   "source": [
    "goglomore.head()"
   ]
  },
  {
   "cell_type": "markdown",
   "metadata": {},
   "source": [
    "What do you notice in the script above? What is the value registred for Adana and column region? What does \"else\" mean? We will come back to the whole \"else\" thing next week as we discuss more complex and elaborate loops.\n",
    "\n",
    "One important note though: as with simple if loops, do not forget the colon <b> : </b> that comes after the if argument too! If you forget it, it will break!"
   ]
  },
  {
   "cell_type": "code",
   "execution_count": 12,
   "metadata": {},
   "outputs": [
    {
     "name": "stdout",
     "output_type": "stream",
     "text": [
      "Hakkari\n",
      "Tunceli\n",
      "Ardahan\n",
      "Erzurum\n",
      "Erzincan\n",
      "Malatya\n"
     ]
    }
   ],
   "source": [
    "for something in eas_ana:\n",
    "    if len(something) > 6:\n",
    "        print(something)"
   ]
  },
  {
   "cell_type": "code",
   "execution_count": 14,
   "metadata": {},
   "outputs": [
    {
     "ename": "SyntaxError",
     "evalue": "invalid syntax (<ipython-input-14-137b19bca6d3>, line 2)",
     "output_type": "error",
     "traceback": [
      "\u001b[1;36m  File \u001b[1;32m\"<ipython-input-14-137b19bca6d3>\"\u001b[1;36m, line \u001b[1;32m2\u001b[0m\n\u001b[1;33m    if len(something) > 6\u001b[0m\n\u001b[1;37m                         ^\u001b[0m\n\u001b[1;31mSyntaxError\u001b[0m\u001b[1;31m:\u001b[0m invalid syntax\n"
     ]
    }
   ],
   "source": [
    "for something in eas_ana:\n",
    "    if len(something) > 6\n",
    "        print(something)"
   ]
  },
  {
   "cell_type": "markdown",
   "metadata": {},
   "source": [
    "Next week we will see how to use our for, if loops with the else argument, in order to create even more powerful conditional loops. \n",
    "\n",
    "Now, on to the weekly presentations!"
   ]
  }
 ],
 "metadata": {
  "kernelspec": {
   "display_name": "Python 3",
   "language": "python",
   "name": "python3"
  },
  "language_info": {
   "codemirror_mode": {
    "name": "ipython",
    "version": 3
   },
   "file_extension": ".py",
   "mimetype": "text/x-python",
   "name": "python",
   "nbconvert_exporter": "python",
   "pygments_lexer": "ipython3",
   "version": "3.6.12"
  }
 },
 "nbformat": 4,
 "nbformat_minor": 4
}
